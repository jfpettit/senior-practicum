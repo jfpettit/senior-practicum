{
 "cells": [
  {
   "cell_type": "code",
   "execution_count": 2,
   "metadata": {},
   "outputs": [],
   "source": [
    "from britz_gridworld import GridworldEnv\n",
    "import numpy as np\n",
    "import io\n",
    "import sys\n",
    "from gym.envs.toy_text import discrete"
   ]
  },
  {
   "cell_type": "code",
   "execution_count": 3,
   "metadata": {},
   "outputs": [],
   "source": [
    "gridworld = GridworldEnv()"
   ]
  },
  {
   "cell_type": "code",
   "execution_count": 27,
   "metadata": {},
   "outputs": [],
   "source": [
    "class policy_iteration:\n",
    "    def __init__(self, environment, discount, threshold):\n",
    "        self.environment = environment\n",
    "        self.discount = discount\n",
    "        self.num_states = environment.nS\n",
    "        self.num_actions = environment.nA\n",
    "        self.threshold = threshold\n",
    "        \n",
    "    def evaluation(self, policy, maxiter):\n",
    "        v_0 = np.zeros(self.num_states)\n",
    "\n",
    "        for i in range(maxiter):\n",
    "            DELTA = 0\n",
    "            for i in range(self.num_states):\n",
    "                v_ = 0\n",
    "                for act, actprob in enumerate(policy[i]):\n",
    "                    for prob, state, r, over in self.environment.P[i][act]:\n",
    "                        v_ += actprob * prob * (r + self.discount * v_0[state])\n",
    "\n",
    "                DELTA = max(DELTA, np.abs(v_ - v_0[i]))\n",
    "                v_0[i] = v_\n",
    "\n",
    "            if DELTA < self.threshold: break\n",
    "\n",
    "            return np.array(v_0)\n",
    "        \n",
    "    def lookahead(self, current_state, V):\n",
    "        A = np.zeros(self.num_actions)\n",
    "\n",
    "        for acts in range(self.num_actions):\n",
    "            for prob, next_state, r, over in self.environment.P[current_state][acts]:\n",
    "                A[acts] += prob * (r + self.discount * V[next_state])\n",
    "        return A\n",
    "    \n",
    "    def improvement(self, evaluation_function):\n",
    "        policy = np.ones([self.num_states, self.num_actions]) / self.num_actions\n",
    "        \n",
    "        while True:\n",
    "            V_func = evaluation_function(policy, 10000)\n",
    "            stable = True\n",
    "            \n",
    "            for state in range(self.num_states):\n",
    "                picked_action = np.argmax(policy[state])\n",
    "                \n",
    "                act_vals = self.lookahead(state, V_func)\n",
    "                optimal_action = np.argmax(act_vals)\n",
    "                \n",
    "                if picked_action is not optimal_action:\n",
    "                    stable = False\n",
    "                    \n",
    "                policy[state] = np.eye(self.num_actions)[optimal_action]\n",
    "                \n",
    "            if stable:\n",
    "                return policy, V_func\n",
    "        "
   ]
  },
  {
   "cell_type": "code",
   "execution_count": 28,
   "metadata": {},
   "outputs": [
    {
     "ename": "KeyboardInterrupt",
     "evalue": "",
     "output_type": "error",
     "traceback": [
      "\u001b[0;31m---------------------------------------------------------------------------\u001b[0m",
      "\u001b[0;31mKeyboardInterrupt\u001b[0m                         Traceback (most recent call last)",
      "\u001b[0;32m<ipython-input-28-bd6b19d1e86b>\u001b[0m in \u001b[0;36m<module>\u001b[0;34m()\u001b[0m\n\u001b[1;32m      1\u001b[0m \u001b[0mpol_iter\u001b[0m \u001b[0;34m=\u001b[0m \u001b[0mpolicy_iteration\u001b[0m\u001b[0;34m(\u001b[0m\u001b[0mgridworld\u001b[0m\u001b[0;34m,\u001b[0m \u001b[0;36m1.0\u001b[0m\u001b[0;34m,\u001b[0m \u001b[0;36m1e-4\u001b[0m\u001b[0;34m)\u001b[0m\u001b[0;34m\u001b[0m\u001b[0;34m\u001b[0m\u001b[0m\n\u001b[0;32m----> 2\u001b[0;31m \u001b[0mpol_iter\u001b[0m\u001b[0;34m.\u001b[0m\u001b[0mimprovement\u001b[0m\u001b[0;34m(\u001b[0m\u001b[0mpol_iter\u001b[0m\u001b[0;34m.\u001b[0m\u001b[0mevaluation\u001b[0m\u001b[0;34m)\u001b[0m\u001b[0;34m\u001b[0m\u001b[0;34m\u001b[0m\u001b[0m\n\u001b[0m",
      "\u001b[0;32m<ipython-input-27-a1036260c32e>\u001b[0m in \u001b[0;36mimprovement\u001b[0;34m(self, evaluation_function)\u001b[0m\n\u001b[1;32m     37\u001b[0m \u001b[0;34m\u001b[0m\u001b[0m\n\u001b[1;32m     38\u001b[0m         \u001b[0;32mwhile\u001b[0m \u001b[0;32mTrue\u001b[0m\u001b[0;34m:\u001b[0m\u001b[0;34m\u001b[0m\u001b[0;34m\u001b[0m\u001b[0m\n\u001b[0;32m---> 39\u001b[0;31m             \u001b[0mV_func\u001b[0m \u001b[0;34m=\u001b[0m \u001b[0mevaluation_function\u001b[0m\u001b[0;34m(\u001b[0m\u001b[0mpolicy\u001b[0m\u001b[0;34m,\u001b[0m \u001b[0;36m10000\u001b[0m\u001b[0;34m)\u001b[0m\u001b[0;34m\u001b[0m\u001b[0;34m\u001b[0m\u001b[0m\n\u001b[0m\u001b[1;32m     40\u001b[0m             \u001b[0mstable\u001b[0m \u001b[0;34m=\u001b[0m \u001b[0;32mTrue\u001b[0m\u001b[0;34m\u001b[0m\u001b[0;34m\u001b[0m\u001b[0m\n\u001b[1;32m     41\u001b[0m \u001b[0;34m\u001b[0m\u001b[0m\n",
      "\u001b[0;32m<ipython-input-27-a1036260c32e>\u001b[0m in \u001b[0;36mevaluation\u001b[0;34m(self, policy, maxiter)\u001b[0m\n\u001b[1;32m     18\u001b[0m                         \u001b[0mv_\u001b[0m \u001b[0;34m+=\u001b[0m \u001b[0mactprob\u001b[0m \u001b[0;34m*\u001b[0m \u001b[0mprob\u001b[0m \u001b[0;34m*\u001b[0m \u001b[0;34m(\u001b[0m\u001b[0mr\u001b[0m \u001b[0;34m+\u001b[0m \u001b[0mself\u001b[0m\u001b[0;34m.\u001b[0m\u001b[0mdiscount\u001b[0m \u001b[0;34m*\u001b[0m \u001b[0mv_0\u001b[0m\u001b[0;34m[\u001b[0m\u001b[0mstate\u001b[0m\u001b[0;34m]\u001b[0m\u001b[0;34m)\u001b[0m\u001b[0;34m\u001b[0m\u001b[0;34m\u001b[0m\u001b[0m\n\u001b[1;32m     19\u001b[0m \u001b[0;34m\u001b[0m\u001b[0m\n\u001b[0;32m---> 20\u001b[0;31m                 \u001b[0mDELTA\u001b[0m \u001b[0;34m=\u001b[0m \u001b[0mmax\u001b[0m\u001b[0;34m(\u001b[0m\u001b[0mDELTA\u001b[0m\u001b[0;34m,\u001b[0m \u001b[0mnp\u001b[0m\u001b[0;34m.\u001b[0m\u001b[0mabs\u001b[0m\u001b[0;34m(\u001b[0m\u001b[0mv_\u001b[0m \u001b[0;34m-\u001b[0m \u001b[0mv_0\u001b[0m\u001b[0;34m[\u001b[0m\u001b[0mi\u001b[0m\u001b[0;34m]\u001b[0m\u001b[0;34m)\u001b[0m\u001b[0;34m)\u001b[0m\u001b[0;34m\u001b[0m\u001b[0;34m\u001b[0m\u001b[0m\n\u001b[0m\u001b[1;32m     21\u001b[0m                 \u001b[0mv_0\u001b[0m\u001b[0;34m[\u001b[0m\u001b[0mi\u001b[0m\u001b[0;34m]\u001b[0m \u001b[0;34m=\u001b[0m \u001b[0mv_\u001b[0m\u001b[0;34m\u001b[0m\u001b[0;34m\u001b[0m\u001b[0m\n\u001b[1;32m     22\u001b[0m \u001b[0;34m\u001b[0m\u001b[0m\n",
      "\u001b[0;31mKeyboardInterrupt\u001b[0m: "
     ]
    }
   ],
   "source": [
    "pol_iter = policy_iteration(gridworld, 1.0, 1e-4)\n",
    "policy, value_function = pol_iter.improvement(pol_iter.evaluation)"
   ]
  },
  {
   "cell_type": "code",
   "execution_count": null,
   "metadata": {},
   "outputs": [],
   "source": []
  }
 ],
 "metadata": {
  "kernelspec": {
   "display_name": "Python 3",
   "language": "python",
   "name": "python3"
  },
  "language_info": {
   "codemirror_mode": {
    "name": "ipython",
    "version": 3
   },
   "file_extension": ".py",
   "mimetype": "text/x-python",
   "name": "python",
   "nbconvert_exporter": "python",
   "pygments_lexer": "ipython3",
   "version": "3.7.2"
  }
 },
 "nbformat": 4,
 "nbformat_minor": 2
}
