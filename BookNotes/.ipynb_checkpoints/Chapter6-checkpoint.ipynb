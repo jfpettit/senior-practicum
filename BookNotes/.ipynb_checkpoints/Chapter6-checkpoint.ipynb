{
 "cells": [
  {
   "cell_type": "markdown",
   "metadata": {},
   "source": [
    "# Chapter 6: Temporal Difference Learning\n",
    "\n",
    "Is a combo of MC and DP ideas. Like MC, TD can learn from raw experience w/ no knowledge of environment dynamics. Like DP, TD methods bootstrap by using other learned estimates to update new estimates. "
   ]
  },
  {
   "cell_type": "markdown",
   "metadata": {},
   "source": [
    "## 6.1 TD Prediction\n",
    "\n",
    "TD and MC use experience to solve the prediction problem. MC methods wait until the return following an episode is known and then use the return to estimate a target for $V(S_t)$, where $V$ is value of a particular state in $v_\\pi$. Here's a simple every-visit MC method for nonstationary problems:\n",
    "\n",
    "$V(S_t) \\leftarrow V(S_t) + \\alpha [G_t - V(S-t)] \\quad (6.1)$\n",
    "\n",
    "$\\alpha$ is a constant step-size parameter and $G_t$ is actual return following time $t$. Name this method $constant-\\alpha$ MC. \n",
    "\n",
    "Where MC methods have to wait until the return is known at the end of an episode to update $V(S_t)$, TD methods only need to wait until the next timestep. At $t+1$ time they'll immediately form a target value and make an update using the observed reward $R_{t+1}$ and the existing value estimate $V(S_{t+1}$. Simplest TD method goes:\n",
    "\n",
    "$V(S_t) \\leftarrow V(S_t) + \\alpha[R_{t+1} + \\gamma V(S_{t+1}) - V(S_t)] \\quad (6.2)$"
   ]
  },
  {
   "cell_type": "markdown",
   "metadata": {},
   "source": [
    "This method is called $TD(0)$ or $one-step TD$. \n",
    "\n",
    "Algo for TD(0):\n",
    "\n",
    "Input: $\\pi$  \n",
    "Parameter: $\\alpha \\in (0, 1]$  \n",
    "Start $V(s)$ for all $s \\in S^+$, arbitrarily except $V(terminal) = 0$\n",
    "\n",
    "Loop for each episode:  \n",
    "    $\\quad$Initialize S  \n",
    "    $\\quad$Loop for each step of episode:  \n",
    "        $\\quad$$\\quad$$A \\leftarrow$ action given from $\\pi$ for $S$  \n",
    "        $\\quad$$\\quad$Take action $A$, observe $R, S'$  \n",
    "        $\\quad$$\\quad$$V(S) \\leftarrow V(S) + \\alpha[R + \\gamma V(S') - V(S)]$  \n",
    "        $\\quad$$\\quad$$S\\leftarrow S'$  \n",
    "    $\\quad$ Until $S$ is terminal."
   ]
  },
  {
   "cell_type": "code",
   "execution_count": null,
   "metadata": {},
   "outputs": [],
   "source": []
  }
 ],
 "metadata": {
  "kernelspec": {
   "display_name": "Python 3",
   "language": "python",
   "name": "python3"
  },
  "language_info": {
   "codemirror_mode": {
    "name": "ipython",
    "version": 3
   },
   "file_extension": ".py",
   "mimetype": "text/x-python",
   "name": "python",
   "nbconvert_exporter": "python",
   "pygments_lexer": "ipython3",
   "version": "3.7.2"
  }
 },
 "nbformat": 4,
 "nbformat_minor": 2
}
