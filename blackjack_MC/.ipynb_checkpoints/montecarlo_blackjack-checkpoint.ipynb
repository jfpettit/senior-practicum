{
 "cells": [
  {
   "cell_type": "code",
   "execution_count": 1,
   "metadata": {},
   "outputs": [],
   "source": [
    "import numpy as np"
   ]
  },
  {
   "cell_type": "code",
   "execution_count": 2,
   "metadata": {},
   "outputs": [],
   "source": [
    "class blackjack_game:\n",
    "    def __init__(self, dealer_decision_point):\n",
    "        self.dealer_decision_point = dealer_decision_point\n",
    "        self.cards = ['Ace', 2, 3, 4, 5, 6, 7, 8, 9, 10, 'face']\n",
    "        \n",
    "    def drawtwocards(self):\n",
    "        rand_cards = np.random.randint(0, len(self.cards), size=2)\n",
    "        return rand_cards\n",
    "    \n",
    "    def drawonecard(self):\n",
    "        rand_card = np.random.randint(0, len(self.cards))\n",
    "        return rand_card\n",
    "    \n",
    "    def computepoints(self, rand_cards):\n",
    "        points = 0\n",
    "        for i in rand_cards:\n",
    "            if type(self.cards[i]) is int:\n",
    "                points += self.cards[i]\n",
    "            elif self.cards[i] is 'face':\n",
    "                points += 10\n",
    "            elif self.cards[i] is 'Ace':\n",
    "                if points <= 10:\n",
    "                    points += 11\n",
    "                elif points > 10:\n",
    "                    points += 1\n",
    "        return points\n",
    "    \n",
    "    def dealerplay(self, point_total):\n",
    "        # 1 is hit, 0 is stick\n",
    "        if point_total < self.dealer_decision_point:\n",
    "            return 1\n",
    "        elif point_total >= self.dealer_decision_point:\n",
    "            return 0\n",
    "        \n",
    "    def agent_obs(self, agent_cards, dealer_cards):\n",
    "        a_cards = [self.cards[i] for i in agent_cards]\n",
    "        d_card = self.cards[dealer_cards[0]]\n",
    "        a_points = self.computepoints(a_cards)\n",
    "        d_points = self.computepoints([d_card])\n",
    "        agent_ace_usable = int(a_points <= 10)\n",
    "        return a_points, d_points, agent_ace_usable\n",
    "    \n",
    "    def check_win(self, agent_cards, dealer_cards, both_done_playing):\n",
    "        agent_points = self.computepoints(agent_cards)\n",
    "        dealer_points = self.computepoints(dealer_cards)\n",
    "        agent_win, dealer_win = 0, 0\n",
    "        if agent_points == 21: agent_win += 1\n",
    "        if dealer_points == 21: dealer_win += 1\n",
    "        \n",
    "        if both_done_playing and agent_points > dealer_points:\n",
    "            agent_win += 1\n",
    "        if both_done_playing and dealer_points > agent_points:\n",
    "            dealer_win += 1\n",
    "            \n",
    "        if agent_win == dealer_win: return 0\n",
    "        if agent_win > dealer_win: return 1\n",
    "        if agent_win < dealer_win: return -1\n",
    "        \n",
    "        else:\n",
    "            return None\n",
    "        \n",
    "    def visualize(self, points, turn, action):\n",
    "        if turn is 1: player = 'MC'\n",
    "        elif turn is 0: player = 'dealer'\n",
    "        \n",
    "        print(player, 'has', points, ' points')\n",
    "        print(player, 'chooses to', action)\n",
    "        print()\n",
    "        \n",
    "    def play(self, start, policy):\n",
    "        while self.check_win() is None:\n",
    "            if start == True:\n",
    "                a_cards, d_cards = self.drawtwocards(), self.drawtwocards()\n",
    "                start = False\n",
    "                dealer_turn = False\n",
    "                a_turn = True\n",
    "            a_obs = self.agent_obs(a_cards, d_cards)\n",
    "            a_action = policy[a_obs]\n",
    "            if a_action = 1:\n",
    "                np.append(a_cards, self.drawonecard())\n",
    "            elif a_action = 0:\n",
    "                a_turn = False\n",
    "                dealer_turn = True\n",
    "            if dealer_turn is True:\n",
    "                d_action = self.dealerplay(17)\n",
    "            if d_action is 0 and a_action is 0:\n",
    "                both_done_playing = True\n",
    "                self.check_win(a_cards, d_cards, both_done_playing)\n",
    "        "
   ]
  },
  {
   "cell_type": "code",
   "execution_count": 3,
   "metadata": {},
   "outputs": [
    {
     "data": {
      "text/plain": [
       "-1"
      ]
     },
     "execution_count": 3,
     "metadata": {},
     "output_type": "execute_result"
    }
   ],
   "source": [
    "game = blackjack_game(17)\n",
    "a_cards, d_cards = game.drawtwocards(), game.drawtwocards()\n",
    "game.check_win(a_cards, d_cards, True)"
   ]
  },
  {
   "cell_type": "code",
   "execution_count": 32,
   "metadata": {},
   "outputs": [
    {
     "name": "stdout",
     "output_type": "stream",
     "text": [
      "[9 0] [0 9]\n"
     ]
    }
   ],
   "source": [
    "class monte_carlo:\n",
    "    def __init__(self, states, env):\n",
    "        self.states = states\n",
    "        self.env = env\n",
    "    \n",
    "    def first_visit_MC_prediction(self, policy):\n",
    "        V_ = np.random.rand(len(self.states))\n",
    "        returns = np.empty(len(self.states))\n",
    "        \n",
    "        while True:\n",
    "            "
   ]
  },
  {
   "cell_type": "code",
   "execution_count": null,
   "metadata": {},
   "outputs": [],
   "source": []
  }
 ],
 "metadata": {
  "kernelspec": {
   "display_name": "Python 3",
   "language": "python",
   "name": "python3"
  },
  "language_info": {
   "codemirror_mode": {
    "name": "ipython",
    "version": 3
   },
   "file_extension": ".py",
   "mimetype": "text/x-python",
   "name": "python",
   "nbconvert_exporter": "python",
   "pygments_lexer": "ipython3",
   "version": "3.7.2"
  }
 },
 "nbformat": 4,
 "nbformat_minor": 2
}
