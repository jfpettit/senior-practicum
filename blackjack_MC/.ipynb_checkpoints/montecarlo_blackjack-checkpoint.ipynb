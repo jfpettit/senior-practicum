{
 "cells": [
  {
   "cell_type": "code",
   "execution_count": 60,
   "metadata": {},
   "outputs": [],
   "source": [
    "import numpy as np\n",
    "import gym\n",
    "from gym import spaces\n",
    "from gym.utils import seeding"
   ]
  },
  {
   "cell_type": "markdown",
   "metadata": {},
   "source": [
    "Stuff to figure out:\n",
    "- Does the blackjack class terminate an episode when a player either reaches 21 or goes bust? I don't think so. \n",
    "- Make it terminate when going bust/ reaching 21\n",
    "- Incorporate gym.Env functionality for stepping the environment, resetting it, rendering, etc.\n",
    "- Plot state-value function learned in order to determine if it matches with the function found by the book and by Denny Britz"
   ]
  },
  {
   "cell_type": "code",
   "execution_count": 19,
   "metadata": {},
   "outputs": [],
   "source": [
    "class blackjack_game(gym.Env):\n",
    "    def __init__(self, dealer_decision_point):\n",
    "        self.dealer_decision_point = dealer_decision_point\n",
    "        self.cards = ['Ace', 2, 3, 4, 5, 6, 7, 8, 9, 10, 'face']\n",
    "        \n",
    "    def drawtwocards(self):\n",
    "        rand_cards = np.random.randint(0, len(self.cards), size=2)\n",
    "        return rand_cards\n",
    "    \n",
    "    def drawonecard(self):\n",
    "        rand_card = np.random.randint(0, len(self.cards))\n",
    "        return rand_card\n",
    "    \n",
    "    def computepoints(self, rand_cards):\n",
    "        points = 0\n",
    "        for i in rand_cards:\n",
    "            if type(self.cards[i]) is int:\n",
    "                points += self.cards[i]\n",
    "            elif self.cards[i] is 'face':\n",
    "                points += 10\n",
    "            elif self.cards[i] is 'Ace':\n",
    "                if points <= 10:\n",
    "                    points += 11\n",
    "                elif points > 10:\n",
    "                    points += 1\n",
    "        return points\n",
    "    \n",
    "    def dealerplay(self, point_total):\n",
    "        # 1 is hit, 0 is stick\n",
    "        if point_total < self.dealer_decision_point:\n",
    "            return 1\n",
    "        elif point_total >= self.dealer_decision_point:\n",
    "            return 0\n",
    "        \n",
    "    def agent_obs(self, agent_cards, dealer_cards):\n",
    "        a_cards = [self.cards[i] for i in agent_cards]\n",
    "        d_card = self.cards[dealer_cards[0]]\n",
    "        a_points = self.computepoints(a_cards)\n",
    "        d_points = self.computepoints([d_card])\n",
    "        agent_ace_usable = int(a_points <= 10)\n",
    "        return a_points, d_points, agent_ace_usable\n",
    "    \n",
    "    def check_win(self, agent_cards, dealer_cards, both_done_playing):\n",
    "        agent_points = self.computepoints(agent_cards)\n",
    "        dealer_points = self.computepoints(dealer_cards)\n",
    "        agent_win, dealer_win = 0, 0\n",
    "        if agent_points == 21: agent_win += 1\n",
    "        if dealer_points == 21: dealer_win += 1\n",
    "        \n",
    "        if agent_points > 21: dealer_win += 1\n",
    "        if dealer_points > 21: agent_win += 1\n",
    "        \n",
    "        if both_done_playing and agent_points > dealer_points:\n",
    "            agent_win += 1\n",
    "        if both_done_playing and dealer_points > agent_points:\n",
    "            dealer_win += 1\n",
    "         \n",
    "        if agent_win == dealer_win: return 0\n",
    "        if agent_win > dealer_win: return 1\n",
    "        if agent_win < dealer_win: return -1\n",
    "        \n",
    "        \n",
    "    def visualize(self, points, turn, action):\n",
    "        if turn is 1: player = 'MC'\n",
    "        elif turn is 0: player = 'dealer'\n",
    "        \n",
    "        print(player, 'has', points, ' points')\n",
    "        print(player, 'chooses to', action)\n",
    "        print()\n",
    "        \n",
    "    def play(self, start, policy):\n",
    "        sequence = []\n",
    "        a_cards, d_cards = self.drawtwocards(), self.drawtwocards()\n",
    "        both_done_playing = False\n",
    "        while self.check_win(a_cards, d_cards, both_done_playing) is None or 0:\n",
    "            if start == True:\n",
    "                start = False\n",
    "                dealer_turn = False\n",
    "                a_turn = True\n",
    "            a_obs = self.agent_obs(a_cards, d_cards)\n",
    "            a_action = policy(a_obs[0])\n",
    "            if a_action is 1:\n",
    "                np.append(a_cards, self.drawonecard())\n",
    "            elif a_action is 0:\n",
    "                a_turn = False\n",
    "                dealer_turn = True\n",
    "            if dealer_turn is True:\n",
    "                d_action = self.dealerplay(17)\n",
    "            if d_action is 0 and a_action is 0:\n",
    "                both_done_playing = True\n",
    "                self.check_win(a_cards, d_cards, both_done_playing)\n",
    "            sequence.append(np.array([a_obs, a_action, self.check_win(a_cards, d_cards, both_done_playing)]))\n",
    "        return sequence"
   ]
  },
  {
   "cell_type": "code",
   "execution_count": 20,
   "metadata": {},
   "outputs": [
    {
     "data": {
      "text/plain": [
       "-1"
      ]
     },
     "execution_count": 20,
     "metadata": {},
     "output_type": "execute_result"
    }
   ],
   "source": [
    "game = blackjack_game(17)\n",
    "a_cards, d_cards = game.drawtwocards(), game.drawtwocards()\n",
    "game.check_win(a_cards, d_cards, True)"
   ]
  },
  {
   "cell_type": "code",
   "execution_count": 56,
   "metadata": {},
   "outputs": [],
   "source": [
    "class monte_carlo:\n",
    "    def __init__(self, states, environment):\n",
    "        self.states = states\n",
    "        self.env = environment(17)\n",
    "    \n",
    "    def first_visit_MC_prediction(self, policy, epochs):\n",
    "        V_ = np.random.rand(self.states)\n",
    "        returns = []\n",
    "        \n",
    "        for ep in range(epochs):\n",
    "            seq = self.env.play(True, policy=policy)\n",
    "            G = 0\n",
    "            for i in range(len(seq)):\n",
    "                G = gamma * G + seq[i+1[2]]\n",
    "                if seq[i] not in seq[:-1]:\n",
    "                    returns[i] += G\n",
    "                    V_[i] = np.average(returns[i])\n",
    "        return V_"
   ]
  },
  {
   "cell_type": "code",
   "execution_count": 57,
   "metadata": {},
   "outputs": [],
   "source": [
    "num_states = 200\n",
    "policy = lambda points: int(points is 20 or points is 21)"
   ]
  },
  {
   "cell_type": "code",
   "execution_count": 58,
   "metadata": {},
   "outputs": [],
   "source": [
    "mc = monte_carlo(200, blackjack_game)"
   ]
  },
  {
   "cell_type": "code",
   "execution_count": 59,
   "metadata": {},
   "outputs": [
    {
     "data": {
      "text/plain": [
       "array([0.21829018, 0.53822454, 0.95823701, 0.4201937 , 0.43837277,\n",
       "       0.47883206, 0.65857083, 0.36450569, 0.3038113 , 0.31058791,\n",
       "       0.08616594, 0.73101671, 0.88518298, 0.59843405, 0.10680931,\n",
       "       0.69712783, 0.56921367, 0.81873762, 0.60798064, 0.93017007,\n",
       "       0.66243806, 0.18394337, 0.64461003, 0.53989732, 0.66604234,\n",
       "       0.98666662, 0.44867214, 0.40930516, 0.26236748, 0.19302723,\n",
       "       0.45727106, 0.70441434, 0.80785109, 0.07137477, 0.68135228,\n",
       "       0.82866818, 0.34538189, 0.29795347, 0.10743991, 0.71042047,\n",
       "       0.74751246, 0.5431503 , 0.66348282, 0.23736131, 0.34135237,\n",
       "       0.35400368, 0.66692562, 0.68960921, 0.21470136, 0.37782128,\n",
       "       0.87627054, 0.4018942 , 0.54513   , 0.31354471, 0.11991783,\n",
       "       0.80328985, 0.3446438 , 0.1416369 , 0.43535068, 0.76671385,\n",
       "       0.00105864, 0.26640283, 0.52681098, 0.62346269, 0.64545646,\n",
       "       0.69078655, 0.78512216, 0.46554459, 0.6205387 , 0.60125064,\n",
       "       0.03973286, 0.64565914, 0.87271168, 0.38412099, 0.39586972,\n",
       "       0.38082164, 0.48640473, 0.50021035, 0.93645176, 0.33085843,\n",
       "       0.85877304, 0.34601552, 0.24820058, 0.94698113, 0.51389733,\n",
       "       0.63910936, 0.86566383, 0.76728616, 0.19467288, 0.52510172,\n",
       "       0.82130875, 0.6235549 , 0.31010563, 0.62975144, 0.89381521,\n",
       "       0.30648504, 0.57756285, 0.82581926, 0.45575376, 0.4600425 ,\n",
       "       0.72233525, 0.15264874, 0.51069079, 0.92265202, 0.31217139,\n",
       "       0.08289214, 0.42492657, 0.67650366, 0.15422497, 0.11580226,\n",
       "       0.56419349, 0.66333629, 0.36669521, 0.44839575, 0.29899443,\n",
       "       0.38846034, 0.45786725, 0.19643461, 0.93703022, 0.22550318,\n",
       "       0.37787162, 0.04094175, 0.90521836, 0.67639429, 0.33407453,\n",
       "       0.49903175, 0.22284344, 0.79884753, 0.84518227, 0.87319041,\n",
       "       0.17984767, 0.42124375, 0.08811727, 0.07057751, 0.4481122 ,\n",
       "       0.45153261, 0.9516561 , 0.41012981, 0.4296111 , 0.9341925 ,\n",
       "       0.84051033, 0.56107012, 0.3399394 , 0.72083706, 0.20158147,\n",
       "       0.88469092, 0.60487643, 0.3670635 , 0.43630596, 0.49148734,\n",
       "       0.40777104, 0.09053154, 0.45129775, 0.63456594, 0.68722026,\n",
       "       0.11079518, 0.80845848, 0.62864851, 0.18989672, 0.42682358,\n",
       "       0.97258398, 0.05995325, 0.73807054, 0.0436179 , 0.06233228,\n",
       "       0.15757643, 0.52095109, 0.7663533 , 0.73255928, 0.71270798,\n",
       "       0.23763748, 0.80042876, 0.99974466, 0.47723348, 0.36465251,\n",
       "       0.38242525, 0.50526908, 0.55078626, 0.01572652, 0.21781085,\n",
       "       0.43817117, 0.220772  , 0.38485594, 0.44782576, 0.82984663,\n",
       "       0.82497452, 0.93564449, 0.54466729, 0.07317533, 0.3976843 ,\n",
       "       0.71432834, 0.47213944, 0.37863078, 0.03565833, 0.80946558,\n",
       "       0.18498418, 0.60291198, 0.79142141, 0.79407755, 0.07305608])"
      ]
     },
     "execution_count": 59,
     "metadata": {},
     "output_type": "execute_result"
    }
   ],
   "source": [
    "mc.first_visit_MC_prediction(policy, 500000)"
   ]
  },
  {
   "cell_type": "code",
   "execution_count": null,
   "metadata": {},
   "outputs": [],
   "source": []
  },
  {
   "cell_type": "code",
   "execution_count": null,
   "metadata": {},
   "outputs": [],
   "source": []
  }
 ],
 "metadata": {
  "kernelspec": {
   "display_name": "Python 3",
   "language": "python",
   "name": "python3"
  },
  "language_info": {
   "codemirror_mode": {
    "name": "ipython",
    "version": 3
   },
   "file_extension": ".py",
   "mimetype": "text/x-python",
   "name": "python",
   "nbconvert_exporter": "python",
   "pygments_lexer": "ipython3",
   "version": "3.7.2"
  }
 },
 "nbformat": 4,
 "nbformat_minor": 2
}
