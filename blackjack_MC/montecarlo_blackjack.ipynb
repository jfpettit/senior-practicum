{
 "cells": [
  {
   "cell_type": "code",
   "execution_count": 1,
   "metadata": {},
   "outputs": [],
   "source": [
    "import numpy as np"
   ]
  },
  {
   "cell_type": "code",
   "execution_count": 159,
   "metadata": {},
   "outputs": [],
   "source": [
    "class blackjack_game:\n",
    "    def __init__(self, dealer_decision_point):\n",
    "        self.dealer_decision_point = dealer_decision_point\n",
    "        self.cards = ['Ace', 2, 3, 4, 5, 6, 7, 8, 9, 10, 'face']\n",
    "        \n",
    "    def drawtwocards(self):\n",
    "        rand_cards = np.random.randint(0, len(self.cards), size=2)\n",
    "        return rand_cards\n",
    "    \n",
    "    def drawonecard(self):\n",
    "        rand_card = np.random.randint(0, len(self.cards))\n",
    "        return rand_card\n",
    "    \n",
    "    def computepoints(self, rand_cards):\n",
    "        points = 0\n",
    "        for i in rand_cards:\n",
    "            if type(self.cards[i]) is int:\n",
    "                points += self.cards[i]\n",
    "            elif self.cards[i] is 'face':\n",
    "                points += 10\n",
    "            elif self.cards[i] is 'Ace':\n",
    "                if points <= 10:\n",
    "                    points += 10\n",
    "                elif points > 10:\n",
    "                    points += 1\n",
    "        return points\n",
    "    \n",
    "    def dealerplay(self, point_total):\n",
    "        if point_total < self.dealer_decision_point:\n",
    "            return 'hit'\n",
    "        elif point_total >= self.dealer_decision_point:\n",
    "            return 'stick'\n",
    "        \n",
    "    def agent_obs(self, agent_cards, dealer_cards):\n",
    "        a_cards = [self.cards[i] for i in agent_cards]\n",
    "        d_card = self.cards[dealer_cards[0]]\n",
    "        a_points = self.computepoints(a_cards)\n",
    "        d_points = self.computepoints([d_card])\n",
    "        agent_ace_usable = int(a_points <= 10)\n",
    "        return a_points, d_points, agent_ace_usable\n",
    "    \n",
    "    def check_win(self, agent_cards, dealer_cards, both_done_playing):\n",
    "        agent_points = self.computepoints(agent_cards)\n",
    "        dealer_points = self.computepoints(dealer_cards)\n",
    "        agent_win, dealer_win = 0, 0\n",
    "        if agent_points == 21: agent_win += 1\n",
    "        if dealer_points == 21: dealer_win += 1\n",
    "        \n",
    "        if both_done_playing and agent_points > dealer_points:\n",
    "            agent_win += 1\n",
    "        if both_done_playing and dealer_points > agent_points:\n",
    "            dealer_win += 1\n",
    "            \n",
    "        if agent_win == dealer_win: return 0\n",
    "        if agent_win > dealer_win: return 1\n",
    "        if agent_win < dealer_win: return -1\n",
    "        \n",
    "        else:\n",
    "            return None\n",
    "        "
   ]
  },
  {
   "cell_type": "code",
   "execution_count": 161,
   "metadata": {},
   "outputs": [
    {
     "data": {
      "text/plain": [
       "-1"
      ]
     },
     "execution_count": 161,
     "metadata": {},
     "output_type": "execute_result"
    }
   ],
   "source": [
    "game = blackjack_game(17)\n",
    "a_cards, d_cards = game.drawtwocards(), game.drawtwocards()\n",
    "game.check_win(a_cards, d_cards, True)"
   ]
  },
  {
   "cell_type": "code",
   "execution_count": 162,
   "metadata": {},
   "outputs": [
    {
     "name": "stdout",
     "output_type": "stream",
     "text": [
      "[1 7] [3 6]\n"
     ]
    }
   ],
   "source": [
    "print(a_cards, d_cards)"
   ]
  },
  {
   "cell_type": "code",
   "execution_count": null,
   "metadata": {},
   "outputs": [],
   "source": []
  }
 ],
 "metadata": {
  "kernelspec": {
   "display_name": "Python 3",
   "language": "python",
   "name": "python3"
  },
  "language_info": {
   "codemirror_mode": {
    "name": "ipython",
    "version": 3
   },
   "file_extension": ".py",
   "mimetype": "text/x-python",
   "name": "python",
   "nbconvert_exporter": "python",
   "pygments_lexer": "ipython3",
   "version": "3.7.2"
  }
 },
 "nbformat": 4,
 "nbformat_minor": 2
}
